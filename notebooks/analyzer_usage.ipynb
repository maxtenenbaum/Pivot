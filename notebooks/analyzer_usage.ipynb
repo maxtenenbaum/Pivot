{
 "cells": [
  {
   "cell_type": "code",
   "execution_count": 2,
   "metadata": {},
   "outputs": [],
   "source": [
    "import os\n",
    "import sys\n",
    "import pandas as pd\n",
    "import numpy as np\n",
    "sys.path.append(os.path.abspath(\"..\"))"
   ]
  },
  {
   "cell_type": "markdown",
   "metadata": {},
   "source": [
    "## EIS"
   ]
  },
  {
   "cell_type": "code",
   "execution_count": 3,
   "metadata": {},
   "outputs": [],
   "source": [
    "from gamryparser import Parser\n",
    "from gamryparser.analysis import EISAnalyzer"
   ]
  },
  {
   "cell_type": "code",
   "execution_count": 4,
   "metadata": {},
   "outputs": [],
   "source": [
    "eis = Parser.from_file(r\"C:\\Users\\mtenenba\\Desktop\\Pivot\\data\\raw\\20240401_N_GM0016_HL03_E04_EIS.DTA\")"
   ]
  },
  {
   "cell_type": "code",
   "execution_count": 5,
   "metadata": {},
   "outputs": [
    {
     "name": "stdout",
     "output_type": "stream",
     "text": [
      "Parser for '20240401_N_GM0016_HL03_E04_EIS.DTA' with tables: [OCVCURVE, ZCURVE]\n"
     ]
    }
   ],
   "source": [
    "print(eis)"
   ]
  },
  {
   "cell_type": "code",
   "execution_count": 6,
   "metadata": {},
   "outputs": [],
   "source": [
    "analyzer = EISAnalyzer(eis, table_name=\"ZCURVE\")"
   ]
  },
  {
   "cell_type": "code",
   "execution_count": 7,
   "metadata": {},
   "outputs": [
    {
     "data": {
      "text/html": [
       "<div>\n",
       "<style scoped>\n",
       "    .dataframe tbody tr th:only-of-type {\n",
       "        vertical-align: middle;\n",
       "    }\n",
       "\n",
       "    .dataframe tbody tr th {\n",
       "        vertical-align: top;\n",
       "    }\n",
       "\n",
       "    .dataframe thead th {\n",
       "        text-align: right;\n",
       "    }\n",
       "</style>\n",
       "<table border=\"1\" class=\"dataframe\">\n",
       "  <thead>\n",
       "    <tr style=\"text-align: right;\">\n",
       "      <th>1</th>\n",
       "      <th>Pt</th>\n",
       "      <th>Time</th>\n",
       "      <th>Freq</th>\n",
       "      <th>Zreal</th>\n",
       "      <th>Zimag</th>\n",
       "      <th>Zsig</th>\n",
       "      <th>Zmod</th>\n",
       "      <th>Zphz</th>\n",
       "      <th>Idc</th>\n",
       "      <th>Vdc</th>\n",
       "      <th>IERange</th>\n",
       "    </tr>\n",
       "  </thead>\n",
       "  <tbody>\n",
       "    <tr>\n",
       "      <th>0</th>\n",
       "      <td>0</td>\n",
       "      <td>1</td>\n",
       "      <td>100078.10</td>\n",
       "      <td>5776.958</td>\n",
       "      <td>-7304.158</td>\n",
       "      <td>1</td>\n",
       "      <td>9312.57</td>\n",
       "      <td>-51.65905</td>\n",
       "      <td>2.125616e-09</td>\n",
       "      <td>2.681955e-06</td>\n",
       "      <td>7</td>\n",
       "    </tr>\n",
       "    <tr>\n",
       "      <th>1</th>\n",
       "      <td>1</td>\n",
       "      <td>3</td>\n",
       "      <td>79453.13</td>\n",
       "      <td>5986.390</td>\n",
       "      <td>-8841.661</td>\n",
       "      <td>1</td>\n",
       "      <td>10677.63</td>\n",
       "      <td>-55.89940</td>\n",
       "      <td>2.847278e-09</td>\n",
       "      <td>-2.708666e-06</td>\n",
       "      <td>7</td>\n",
       "    </tr>\n",
       "    <tr>\n",
       "      <th>2</th>\n",
       "      <td>2</td>\n",
       "      <td>4</td>\n",
       "      <td>63140.62</td>\n",
       "      <td>6340.903</td>\n",
       "      <td>-10750.710</td>\n",
       "      <td>1</td>\n",
       "      <td>12481.38</td>\n",
       "      <td>-59.46738</td>\n",
       "      <td>-3.542713e-10</td>\n",
       "      <td>5.146285e-08</td>\n",
       "      <td>6</td>\n",
       "    </tr>\n",
       "    <tr>\n",
       "      <th>3</th>\n",
       "      <td>3</td>\n",
       "      <td>6</td>\n",
       "      <td>50203.12</td>\n",
       "      <td>6672.738</td>\n",
       "      <td>-13192.910</td>\n",
       "      <td>1</td>\n",
       "      <td>14784.39</td>\n",
       "      <td>-63.17053</td>\n",
       "      <td>-3.375495e-10</td>\n",
       "      <td>1.024033e-06</td>\n",
       "      <td>6</td>\n",
       "    </tr>\n",
       "    <tr>\n",
       "      <th>4</th>\n",
       "      <td>4</td>\n",
       "      <td>7</td>\n",
       "      <td>39890.62</td>\n",
       "      <td>7101.396</td>\n",
       "      <td>-16257.050</td>\n",
       "      <td>1</td>\n",
       "      <td>17740.39</td>\n",
       "      <td>-66.40335</td>\n",
       "      <td>-2.966050e-10</td>\n",
       "      <td>1.693603e-06</td>\n",
       "      <td>6</td>\n",
       "    </tr>\n",
       "  </tbody>\n",
       "</table>\n",
       "</div>"
      ],
      "text/plain": [
       "1  Pt  Time       Freq     Zreal      Zimag  Zsig      Zmod      Zphz  \\\n",
       "0   0     1  100078.10  5776.958  -7304.158     1   9312.57 -51.65905   \n",
       "1   1     3   79453.13  5986.390  -8841.661     1  10677.63 -55.89940   \n",
       "2   2     4   63140.62  6340.903 -10750.710     1  12481.38 -59.46738   \n",
       "3   3     6   50203.12  6672.738 -13192.910     1  14784.39 -63.17053   \n",
       "4   4     7   39890.62  7101.396 -16257.050     1  17740.39 -66.40335   \n",
       "\n",
       "1           Idc           Vdc  IERange  \n",
       "0  2.125616e-09  2.681955e-06        7  \n",
       "1  2.847278e-09 -2.708666e-06        7  \n",
       "2 -3.542713e-10  5.146285e-08        6  \n",
       "3 -3.375495e-10  1.024033e-06        6  \n",
       "4 -2.966050e-10  1.693603e-06        6  "
      ]
     },
     "execution_count": 7,
     "metadata": {},
     "output_type": "execute_result"
    }
   ],
   "source": [
    "analyzer.df.head()"
   ]
  },
  {
   "cell_type": "code",
   "execution_count": 8,
   "metadata": {},
   "outputs": [
    {
     "data": {
      "text/html": [
       "<div>\n",
       "<style scoped>\n",
       "    .dataframe tbody tr th:only-of-type {\n",
       "        vertical-align: middle;\n",
       "    }\n",
       "\n",
       "    .dataframe tbody tr th {\n",
       "        vertical-align: top;\n",
       "    }\n",
       "\n",
       "    .dataframe thead th {\n",
       "        text-align: right;\n",
       "    }\n",
       "</style>\n",
       "<table border=\"1\" class=\"dataframe\">\n",
       "  <thead>\n",
       "    <tr style=\"text-align: right;\">\n",
       "      <th></th>\n",
       "      <th>Source</th>\n",
       "      <th>Zmod @ 1000 Hz (Ω)</th>\n",
       "      <th>Phase @ 1000 Hz (°)</th>\n",
       "      <th>Rs (Ω)</th>\n",
       "      <th>Estimated Rct (Ω)</th>\n",
       "      <th>log-log slope</th>\n",
       "    </tr>\n",
       "  </thead>\n",
       "  <tbody>\n",
       "    <tr>\n",
       "      <th>0</th>\n",
       "      <td>C:\\Users\\mtenenba\\Desktop\\Pivot\\data\\raw\\20240...</td>\n",
       "      <td>424551.8</td>\n",
       "      <td>-73.77174</td>\n",
       "      <td>5776.958</td>\n",
       "      <td>3.684926e+08</td>\n",
       "      <td>-0.810924</td>\n",
       "    </tr>\n",
       "  </tbody>\n",
       "</table>\n",
       "</div>"
      ],
      "text/plain": [
       "                                              Source  Zmod @ 1000 Hz (Ω)  \\\n",
       "0  C:\\Users\\mtenenba\\Desktop\\Pivot\\data\\raw\\20240...            424551.8   \n",
       "\n",
       "   Phase @ 1000 Hz (°)    Rs (Ω)  Estimated Rct (Ω)  log-log slope  \n",
       "0            -73.77174  5776.958       3.684926e+08      -0.810924  "
      ]
     },
     "execution_count": 8,
     "metadata": {},
     "output_type": "execute_result"
    }
   ],
   "source": [
    "summary = analyzer.summary()\n",
    "pd.DataFrame([summary])"
   ]
  },
  {
   "cell_type": "code",
   "execution_count": 9,
   "metadata": {},
   "outputs": [
    {
     "name": "stdout",
     "output_type": "stream",
     "text": [
      "Zmod @ 1kHz: 424551.80 Ω\n",
      "Phase @ 1kHz: -73.77°\n",
      "Rs (solution resistance): 5776.96 Ω\n",
      "Estimated Rct: 368492623.04 Ω\n",
      "log-log slope: -0.811\n"
     ]
    }
   ],
   "source": [
    "# Zmod and phase angle at 1kHz\n",
    "zmod_1k, zphz_1k = analyzer.get_impedance_at_freq(freq=1000)\n",
    "print(f\"Zmod @ 1kHz: {zmod_1k:.2f} Ω\")\n",
    "print(f\"Phase @ 1kHz: {zphz_1k:.2f}°\")\n",
    "\n",
    "# Solution resistance\n",
    "rs = analyzer.get_solution_resistance()\n",
    "print(f\"Rs (solution resistance): {rs:.2f} Ω\")\n",
    "\n",
    "# Estimated charge transfer resistance\n",
    "rct = analyzer.estimate_rct()\n",
    "print(f\"Estimated Rct: {rct:.2f} Ω\")\n",
    "\n",
    "# Slope of log-log impedance vs frequency\n",
    "slope = analyzer.log_log_slope()\n",
    "print(f\"log-log slope: {slope:.3f}\")\n"
   ]
  },
  {
   "cell_type": "code",
   "execution_count": 10,
   "metadata": {},
   "outputs": [
    {
     "data": {
      "text/plain": [
       "{'Source': 'C:\\\\Users\\\\mtenenba\\\\Desktop\\\\Pivot\\\\data\\\\processed\\\\20240401_B_GM0016_HL03_E01_EIS_ZCURVE.csv',\n",
       " 'Zmod @ 1000 Hz (Ω)': np.float64(398455.8),\n",
       " 'Phase @ 1000 Hz (°)': np.float64(-74.26234),\n",
       " 'Rs (Ω)': np.float64(5801.815),\n",
       " 'Estimated Rct (Ω)': np.float64(236507898.185),\n",
       " 'log-log slope': np.float64(-0.8225504170731522)}"
      ]
     },
     "execution_count": 10,
     "metadata": {},
     "output_type": "execute_result"
    }
   ],
   "source": [
    "# You can also analyze individual CSVs without using a Parser\n",
    "analyzer_csv = EISAnalyzer(r\"C:\\Users\\mtenenba\\Desktop\\Pivot\\data\\processed\\20240401_B_GM0016_HL03_E01_EIS_ZCURVE.csv\")\n",
    "analyzer_csv.summary()"
   ]
  }
 ],
 "metadata": {
  "kernelspec": {
   "display_name": ".venv",
   "language": "python",
   "name": "python3"
  },
  "language_info": {
   "codemirror_mode": {
    "name": "ipython",
    "version": 3
   },
   "file_extension": ".py",
   "mimetype": "text/x-python",
   "name": "python",
   "nbconvert_exporter": "python",
   "pygments_lexer": "ipython3",
   "version": "3.12.10"
  }
 },
 "nbformat": 4,
 "nbformat_minor": 2
}
