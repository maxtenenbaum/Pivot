{
 "cells": [
  {
   "cell_type": "code",
   "execution_count": 1,
   "metadata": {},
   "outputs": [],
   "source": [
    "import sys\n",
    "import os\n",
    "import pandas as pd\n",
    "sys.path.append(os.path.abspath(\"..\"))\n"
   ]
  },
  {
   "cell_type": "markdown",
   "metadata": {},
   "source": [
    "## Parser"
   ]
  },
  {
   "cell_type": "code",
   "execution_count": 2,
   "metadata": {},
   "outputs": [],
   "source": [
    "from gamryparser import Parser"
   ]
  },
  {
   "cell_type": "code",
   "execution_count": 3,
   "metadata": {},
   "outputs": [],
   "source": [
    "cv_test_file = r\"C:\\Users\\mtenenba\\Desktop\\Pivot\\data\\raw\\20240321_C_GM0016_HL03_E01_CV50.DTA\"\n",
    "parser = Parser.from_file(cv_test_file)"
   ]
  },
  {
   "cell_type": "code",
   "execution_count": 4,
   "metadata": {},
   "outputs": [
    {
     "data": {
      "text/plain": [
       "'CV'"
      ]
     },
     "execution_count": 4,
     "metadata": {},
     "output_type": "execute_result"
    }
   ],
   "source": [
    "# Check experiment type\n",
    "parser.get_experiment_type()"
   ]
  },
  {
   "cell_type": "code",
   "execution_count": 5,
   "metadata": {},
   "outputs": [
    {
     "data": {
      "text/plain": [
       "6"
      ]
     },
     "execution_count": 5,
     "metadata": {},
     "output_type": "execute_result"
    }
   ],
   "source": [
    "# Get number of tables\n",
    "len(parser)"
   ]
  },
  {
   "cell_type": "code",
   "execution_count": 6,
   "metadata": {},
   "outputs": [
    {
     "data": {
      "text/plain": [
       "['OCVCURVE', 'CURVE1', 'CURVE2', 'CURVE3', 'CURVE4', 'CURVE5']"
      ]
     },
     "execution_count": 6,
     "metadata": {},
     "output_type": "execute_result"
    }
   ],
   "source": [
    "# See available dataframes\n",
    "parser.get_dataframe_names()"
   ]
  },
  {
   "cell_type": "code",
   "execution_count": 7,
   "metadata": {},
   "outputs": [],
   "source": [
    "# Get a specific dataframe\n",
    "ocv = parser['OCVCURVE']"
   ]
  },
  {
   "cell_type": "code",
   "execution_count": 8,
   "metadata": {},
   "outputs": [
    {
     "data": {
      "text/html": [
       "<div>\n",
       "<style scoped>\n",
       "    .dataframe tbody tr th:only-of-type {\n",
       "        vertical-align: middle;\n",
       "    }\n",
       "\n",
       "    .dataframe tbody tr th {\n",
       "        vertical-align: top;\n",
       "    }\n",
       "\n",
       "    .dataframe thead th {\n",
       "        text-align: right;\n",
       "    }\n",
       "</style>\n",
       "<table border=\"1\" class=\"dataframe\">\n",
       "  <thead>\n",
       "    <tr style=\"text-align: right;\">\n",
       "      <th>1</th>\n",
       "      <th>Pt</th>\n",
       "      <th>T</th>\n",
       "      <th>Vf</th>\n",
       "      <th>Vm</th>\n",
       "      <th>Ach</th>\n",
       "      <th>Over</th>\n",
       "      <th>Temp</th>\n",
       "    </tr>\n",
       "  </thead>\n",
       "  <tbody>\n",
       "    <tr>\n",
       "      <th>0</th>\n",
       "      <td>0</td>\n",
       "      <td>0.258333</td>\n",
       "      <td>1.47195E-001</td>\n",
       "      <td>1.47195E-001</td>\n",
       "      <td>2.30089E-004</td>\n",
       "      <td>..........a</td>\n",
       "      <td>-327.66</td>\n",
       "    </tr>\n",
       "    <tr>\n",
       "      <th>1</th>\n",
       "      <td>1</td>\n",
       "      <td>0.516667</td>\n",
       "      <td>1.47201E-001</td>\n",
       "      <td>1.47476E-001</td>\n",
       "      <td>2.24289E-004</td>\n",
       "      <td>..........a</td>\n",
       "      <td>-327.66</td>\n",
       "    </tr>\n",
       "    <tr>\n",
       "      <th>2</th>\n",
       "      <td>2</td>\n",
       "      <td>0.775</td>\n",
       "      <td>1.47234E-001</td>\n",
       "      <td>1.47777E-001</td>\n",
       "      <td>2.21956E-004</td>\n",
       "      <td>..........a</td>\n",
       "      <td>-327.66</td>\n",
       "    </tr>\n",
       "    <tr>\n",
       "      <th>3</th>\n",
       "      <td>3</td>\n",
       "      <td>1.03333</td>\n",
       "      <td>1.47332E-001</td>\n",
       "      <td>1.48088E-001</td>\n",
       "      <td>2.16689E-004</td>\n",
       "      <td>..........a</td>\n",
       "      <td>-327.66</td>\n",
       "    </tr>\n",
       "    <tr>\n",
       "      <th>4</th>\n",
       "      <td>4</td>\n",
       "      <td>1.29167</td>\n",
       "      <td>1.47513E-001</td>\n",
       "      <td>1.48410E-001</td>\n",
       "      <td>2.17089E-004</td>\n",
       "      <td>..........a</td>\n",
       "      <td>-327.66</td>\n",
       "    </tr>\n",
       "  </tbody>\n",
       "</table>\n",
       "</div>"
      ],
      "text/plain": [
       "1 Pt         T            Vf            Vm           Ach         Over     Temp\n",
       "0  0  0.258333  1.47195E-001  1.47195E-001  2.30089E-004  ..........a  -327.66\n",
       "1  1  0.516667  1.47201E-001  1.47476E-001  2.24289E-004  ..........a  -327.66\n",
       "2  2     0.775  1.47234E-001  1.47777E-001  2.21956E-004  ..........a  -327.66\n",
       "3  3   1.03333  1.47332E-001  1.48088E-001  2.16689E-004  ..........a  -327.66\n",
       "4  4   1.29167  1.47513E-001  1.48410E-001  2.17089E-004  ..........a  -327.66"
      ]
     },
     "execution_count": 8,
     "metadata": {},
     "output_type": "execute_result"
    }
   ],
   "source": [
    "# View the first few rows\n",
    "ocv.head()"
   ]
  },
  {
   "cell_type": "code",
   "execution_count": 11,
   "metadata": {},
   "outputs": [
    {
     "name": "stdout",
     "output_type": "stream",
     "text": [
      "Saved 20240321_C_GM0016_HL03_E01_CV50_OCVCURVE.csv\n"
     ]
    }
   ],
   "source": [
    "# Save a single dataframe to CSV\n",
    "parser.save_dataframe(\"OCVCURVE\", r\"C:\\Users\\mtenenba\\Desktop\\Pivot\\data\\processed\")"
   ]
  },
  {
   "cell_type": "code",
   "execution_count": 12,
   "metadata": {},
   "outputs": [
    {
     "name": "stdout",
     "output_type": "stream",
     "text": [
      "Saved 20240321_C_GM0016_HL03_E01_CV50_OCVCURVE.csv\n",
      "Saved 20240321_C_GM0016_HL03_E01_CV50_CURVE1.csv\n",
      "Saved 20240321_C_GM0016_HL03_E01_CV50_CURVE2.csv\n",
      "Saved 20240321_C_GM0016_HL03_E01_CV50_CURVE3.csv\n",
      "Saved 20240321_C_GM0016_HL03_E01_CV50_CURVE4.csv\n",
      "Saved 20240321_C_GM0016_HL03_E01_CV50_CURVE5.csv\n"
     ]
    }
   ],
   "source": [
    "# Save all dataframes to CSV\n",
    "parser.save_dataframes(r\"C:\\Users\\mtenenba\\Desktop\\Pivot\\data\\processed\")"
   ]
  },
  {
   "cell_type": "code",
   "execution_count": 13,
   "metadata": {},
   "outputs": [],
   "source": [
    "eis = Parser.from_file(r\"C:\\Users\\mtenenba\\Desktop\\Pivot\\data\\raw\\20240401_F_GM0016_HL03_E02_EIS.DTA\")"
   ]
  },
  {
   "cell_type": "code",
   "execution_count": 18,
   "metadata": {},
   "outputs": [
    {
     "data": {
      "text/plain": [
       "Index(['Pt', 'Time', 'Freq', 'Zreal', 'Zimag', 'Zsig', 'Zmod', 'Zphz', 'Idc',\n",
       "       'Vdc', 'IERange'],\n",
       "      dtype='object', name=1)"
      ]
     },
     "execution_count": 18,
     "metadata": {},
     "output_type": "execute_result"
    }
   ],
   "source": [
    "eis['ZCURVE'].columns"
   ]
  },
  {
   "cell_type": "code",
   "execution_count": null,
   "metadata": {},
   "outputs": [],
   "source": []
  }
 ],
 "metadata": {
  "kernelspec": {
   "display_name": ".venv",
   "language": "python",
   "name": "python3"
  },
  "language_info": {
   "codemirror_mode": {
    "name": "ipython",
    "version": 3
   },
   "file_extension": ".py",
   "mimetype": "text/x-python",
   "name": "python",
   "nbconvert_exporter": "python",
   "pygments_lexer": "ipython3",
   "version": "3.12.10"
  }
 },
 "nbformat": 4,
 "nbformat_minor": 2
}
